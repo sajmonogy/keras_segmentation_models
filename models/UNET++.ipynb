{
 "metadata": {
  "language_info": {
   "codemirror_mode": {
    "name": "ipython",
    "version": 3
   },
   "file_extension": ".py",
   "mimetype": "text/x-python",
   "name": "python",
   "nbconvert_exporter": "python",
   "pygments_lexer": "ipython3",
   "version": "3.7.11-final"
  },
  "orig_nbformat": 2,
  "kernelspec": {
   "name": "python3",
   "display_name": "Python 3 (ipykernel)",
   "language": "python"
  }
 },
 "nbformat": 4,
 "nbformat_minor": 2,
 "cells": [
  {
   "cell_type": "code",
   "execution_count": 1,
   "metadata": {},
   "outputs": [],
   "source": [
    "from tensorflow.keras.layers import Input,Conv2D,Concatenate, BatchNormalization, Activation, Conv2DTranspose, MaxPooling2D,Dropout,UpSampling2D, Add, AveragePooling2D\n",
    "from tensorflow.keras.models import Model\n",
    "\n",
    "############ SIMPLE UNET ############################\n",
    "\n",
    "\n",
    "def simple_unet_encoder_block(inp, param, activation='relu'):\n",
    "    enc = Conv2D(param, kernel_size=(3, 3), padding='same')(inp)\n",
    "    enc = BatchNormalization()(enc)\n",
    "    enc = Activation(activation)(enc)\n",
    "    enc = Conv2D(param, kernel_size=(3, 3), padding='same')(enc)\n",
    "    enc = BatchNormalization()(enc)\n",
    "    enc = Activation(activation)(enc)\n",
    "\n",
    "    return enc\n",
    "\n",
    "\n",
    "def simple_unet_decoder_block(inp, conc, param, activation='relu'):\n",
    "    dec = Conv2DTranspose(param, kernel_size=(2, 2), strides=(2, 2), padding='same')(inp)\n",
    "    dec = Concatenate()([dec, conc])\n",
    "    dec = Conv2D(param, kernel_size=(3, 3), padding='same')(dec)\n",
    "    dec = BatchNormalization()(dec)\n",
    "    dec = Activation(activation)(dec)\n",
    "    dec = Conv2D(param, kernel_size=(3, 3), padding='same')(dec)\n",
    "    dec = BatchNormalization()(dec)\n",
    "    dec = Activation(activation)(dec)\n",
    "\n",
    "    return dec\n"
   ]
  },
  {
   "cell_type": "code",
   "execution_count": null,
   "metadata": {},
   "outputs": [],
   "source": [
    "def simple_unet(inp_shape, param=[], dropout=False, dropout_rate=0, num_class=2, last_activation='sigmoid'): # parameters have to be defined\n",
    "    inp = Input(shape=inp_shape)\n",
    "    encoder_blocks = []\n",
    "    for i in range(len(param)):\n",
    "        if i == 0:\n",
    "            enc = simple_unet_encoder_block(inp, param[i])\n",
    "        else:\n",
    "            enc = simple_unet_encoder_block(mp, param[i])\n",
    "        if i == len(param) - 1:\n",
    "            encoder_blocks.append(enc)\n",
    "        else:\n",
    "            mp = MaxPooling2D((2, 2))(enc)\n",
    "            if dropout == True:\n",
    "                mp = Dropout(dropout_rate)(mp)\n",
    "\n",
    "            encoder_blocks.append(enc)\n",
    "\n",
    "    for i in range(len(param) - 1, -1, -1):\n",
    "        if i == 0:\n",
    "            pass\n",
    "        else:\n",
    "            if i == len(param) - 1:\n",
    "                dec = simple_unet_decoder_block(enc, encoder_blocks[i - 1], param[i - 1])\n",
    "            else:\n",
    "                dec = simple_unet_decoder_block(dec, encoder_blocks[i - 1], param[i - 1])\n",
    "            if dropout==True:\n",
    "                dec = Dropout(dropout_rate)(dec)\n",
    "\n",
    "    fi = Conv2D(filters=num_class, kernel_size=1)(dec)\n",
    "    fi = Activation(last_activation)(fi)\n",
    "    model = Model(inputs=inp, outputs=fi)\n",
    "    \n",
    "    return model"
   ]
  }
 ]
}